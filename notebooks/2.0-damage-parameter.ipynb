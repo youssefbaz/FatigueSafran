{
 "cells": [
  {
   "cell_type": "markdown",
   "metadata": {},
   "source": [
    "# 2.0-damage-parameter"
   ]
  },
  {
   "cell_type": "markdown",
   "metadata": {},
   "source": [
    "## Purpose\n",
    "\n",
    "Estimate the damage and effective damage parameters $w$ and $\\overline{w}$."
   ]
  },
  {
   "cell_type": "markdown",
   "metadata": {
    "pycharm": {
     "name": "#%% md\n"
    }
   },
   "source": [
    "## Notation\n",
    "\n",
    "- $w$: Damage parameter\n",
    "- $\\overline{w}$: Effective damage parameter\n",
    "- $\\varepsilon:$ Strain\n",
    "- $\\Delta \\varepsilon_t = \\varepsilon_{\\max} - \\varepsilon_{\\min}$: total strain range\n",
    "- $w_{SWT}$: SWT parameter. (Smith–Watson–Topper).\n",
    "- $\\delta w_0$: material parameter in SWT model"
   ]
  },
  {
   "cell_type": "markdown",
   "metadata": {},
   "source": [
    "## Methodology\n",
    "\n",
    "The $m$ value is taken from the reference: [29](https://www.sciencedirect.com/science/article/abs/pii/S0013794418302169) of the main paper.\n",
    "\n",
    "### Met_1:\n",
    "\n",
    "Attached to equation (4) in the official paper,\n",
    "$$w = \\Delta \\varepsilon_t \\sigma^{\\max}$$\n",
    "and then computing just one value of $w$ for each CHP specimen (scale: 40, 60, 80, 100), since the files *scale_SS.rpt* contains a global minimum and maximum value.\n",
    "\n",
    "In this case, since $w_i$ = $w$ for all $i$ then $\\overline{w} = w$, since:\n",
    "\n",
    "$$\n",
    "\\overline{w} = \\bigg(\\dfrac{1}{V} \\sum_{i=1}^{d} \\int_{V_i} w_i^m dV_i\\bigg)^{1/m} = \\bigg(\\dfrac{w^m}{V} \\sum_{i=1}^{d} \\int_{V_i} dV_i\\bigg)^{1/m} = \\bigg(\\dfrac{w^m}{V} \\sum_{i=1}^{d} V_i \\bigg)^{1/m} =w\n",
    "$$\n",
    "\n",
    "**Remark**: *By this way the computation not depend on the parameter $m$.*\n",
    "\n",
    "### Met_2:\n",
    "\n",
    "Same as in [Met 1](###met_1) but assuming $R_e = \\dfrac{\\varepsilon_{min}}{\\varepsilon_{\\max}} = 0.1 $, and then be able to compute:\n",
    "\n",
    "$$ \\Delta \\varepsilon_{i, t} = \\varepsilon_{\\max, i} - \\varepsilon_{\\min, i} = 0.9 \\varepsilon_{\\max, i} $$\n",
    "\n",
    "and therefore:\n",
    "\n",
    "$$ w_i = \\Delta \\varepsilon_{i, t} \\cdot \\sigma^{\\max}$$\n",
    "\n",
    "In this case, since $w_i$ = $w$ for all $i$ then $\\overline{w} = w$, since:\n",
    "\n",
    "$$\n",
    "\\overline{w} = \\bigg(\\dfrac{1}{V} \\sum_{i=1}^{d} \\int_{V_i} w_i^m dV_i\\bigg)^{1/m} \\approx \\bigg(\\dfrac{1}{V} \\sum_{i=1}^{d} w_i^m V_i \\bigg)^{1/m}\n",
    "$$\n",
    "\n",
    "\n",
    "### Met_3:\n",
    "\n",
    "Same as in [Met 2](###met_1) but taking $\\varepsilon_{\\min, i} = \\min(\\varepsilon_{\\max})$\n",
    "\n",
    "$$ \\Delta \\varepsilon_{i, t} = \\varepsilon_{\\max, i} - \\min(\\varepsilon_{\\max}) $$\n",
    "\n",
    "\n",
    "### Met 4\n",
    "\n",
    "Same as in [Met 1](###met_1) but using the equations (1) and (2) on paper [29](https://www.sciencedirect.com/science/article/abs/pii/S0013794418302169), i.e.,\n",
    "$$w = w_{SWT} - \\delta w_0  \\quad \\text{where} \\quad w_{SWT} = \\Delta \\varepsilon_t \\sigma^{\\max}$$\n",
    "\n",
    "### Met 5\n",
    "\n",
    "Same as in [Met 2](###met_1) but using the equations (1) and (2) on paper [29](https://www.sciencedirect.com/science/article/abs/pii/S0013794418302169), i.e.,\n",
    "$$w = w_{SWT} - \\delta w_0  \\quad \\text{where} \\quad w_{SWT} = \\Delta \\varepsilon_t \\sigma^{\\max}$$"
   ]
  },
  {
   "cell_type": "markdown",
   "metadata": {},
   "source": [
    "## Results\n",
    "\n",
    "The obtained results are quite different between the approaches, I'm not sure of the viability of them."
   ]
  },
  {
   "cell_type": "markdown",
   "metadata": {},
   "source": [
    "## Setup"
   ]
  },
  {
   "cell_type": "markdown",
   "metadata": {},
   "source": [
    "### Library import"
   ]
  },
  {
   "cell_type": "code",
   "execution_count": 3,
   "metadata": {
    "pycharm": {
     "name": "#%%\n"
    }
   },
   "outputs": [],
   "source": [
    "# OS interface\n",
    "import os\n",
    "import glob\n",
    "\n",
    "\n",
    "# Data manipulation\n",
    "import pandas as pd\n",
    "import numpy as np\n",
    "import math\n",
    "import re\n",
    "\n",
    "\n",
    "## Options for pandas\n",
    "pd.options.display.max_columns = 80\n",
    "pd.options.display.max_rows = 50\n",
    "\n",
    "# Visualizations\n"
   ]
  },
  {
   "cell_type": "markdown",
   "metadata": {},
   "source": [
    "### Parameter definition"
   ]
  },
  {
   "cell_type": "code",
   "execution_count": 4,
   "metadata": {},
   "outputs": [
    {
     "name": "stdout",
     "output_type": "stream",
     "text": [
      "Current working directory: c:\\Users\\tchavarria\\DSTI\\Python ML Labs\\Fatigue-Analysis\\notebooks\n"
     ]
    }
   ],
   "source": [
    "# Set input and out path.\n",
    "print(\"Current working directory: {0}\".format(os.getcwd()))\n",
    "\n",
    "input_path = os.path.abspath(os.path.join(os.getcwd(), '../data/raw/finite_elements/'))\n",
    "output_path = os.path.abspath(os.path.join(os.getcwd(), '../data/processed/finite_elements/'))\n",
    "\n",
    "scale_sizes = ['100', '80', '60', '40']\n",
    "\n",
    "## Taken from the main papper:\n",
    "material_param_delta0 = -1.97\n",
    "\n",
    "## this value is taken from this paper:\n",
    "# https://www.sciencedirect.com/science/article/abs/pii/S0013794418302169\n",
    "m = 9.10\n"
   ]
  },
  {
   "cell_type": "code",
   "execution_count": 3,
   "metadata": {
    "scrolled": true
   },
   "outputs": [],
   "source": [
    "#!dir"
   ]
  },
  {
   "cell_type": "markdown",
   "metadata": {},
   "source": [
    "##  Functions \n",
    "\n",
    "read_fwf: https://pandas.pydata.org/pandas-docs/version/0.22/generated/pandas.read_fwf.html\n",
    "\n",
    "Could be a future read and processes data module."
   ]
  },
  {
   "cell_type": "code",
   "execution_count": 5,
   "metadata": {},
   "outputs": [],
   "source": [
    "def create_finite_element_df(file_path, output_path, skiprows = 19, skipfooter = 9):\n",
    "    '''\n",
    "    Load the finite element data in an correct format.\n",
    "    \n",
    "    '''\n",
    "    \n",
    "    if 'SS' in file_path:\n",
    "        names = ['label', 'LE_max', 'S_max']\n",
    "        dtype  = {'label': np.int64, 'LE_max': np.float64, 'S_max': np.float64}\n",
    "    else:\n",
    "        names = ['label', 'E_vol']\n",
    "        dtype  = {'label': np.int64, 'E_vol': np.float64}\n",
    "        \n",
    "    \n",
    "    finite_element_df = pd.read_fwf(file_path\n",
    "                                    , delimiter = '    '\n",
    "                                    , skiprows = skiprows\n",
    "                                    , names = names\n",
    "                                    , index_col = False\n",
    "                                    , dtype  = dtype\n",
    "                                    , skipfooter = skipfooter)\n",
    "    \n",
    "    ## Make this change in order to fix the label column:\n",
    "    finite_element_df['label'] = finite_element_df.index + 1\n",
    "    \n",
    "    finite_element_df.to_csv(output_path, index = None, sep = ';')\n",
    "     \n",
    "   \n",
    "    \n",
    "def read_processed_data(file_path):\n",
    "    '''\n",
    "    Read file for a given path.\n",
    "    '''\n",
    "    processed_df = pd.read_csv(file_path, delimiter = ';')\n",
    "    return processed_df"
   ]
  },
  {
   "cell_type": "markdown",
   "metadata": {
    "pycharm": {
     "name": "#%%\n"
    }
   },
   "source": [
    "## Data processing"
   ]
  },
  {
   "cell_type": "code",
   "execution_count": 6,
   "metadata": {},
   "outputs": [
    {
     "data": {
      "text/plain": [
       "'c:\\\\Users\\\\tchavarria\\\\DSTI\\\\Python ML Labs\\\\Fatigue-Analysis\\\\data\\\\processed\\\\finite_elements\\\\100_SS.csv'"
      ]
     },
     "execution_count": 6,
     "metadata": {},
     "output_type": "execute_result"
    }
   ],
   "source": [
    "# Get FE rpt files paths:\n",
    "fe_raw_paths = glob.glob(os.path.join(input_path,\"**\\\\*.rpt\"),recursive=True)\n",
    "\n",
    "# Creating processed paths\n",
    "fe_processed_paths = [path.replace('raw', 'processed').replace('rpt', 'csv') for path in fe_raw_paths]\n",
    "\n",
    "fe_processed_paths[0]"
   ]
  },
  {
   "cell_type": "code",
   "execution_count": 10,
   "metadata": {},
   "outputs": [
    {
     "data": {
      "text/plain": [
       "['c:\\\\Users\\\\tchavarria\\\\DSTI\\\\Python ML Labs\\\\Fatigue-Analysis\\\\data\\\\processed\\\\finite_elements\\\\100_Vol.csv',\n",
       " 'c:\\\\Users\\\\tchavarria\\\\DSTI\\\\Python ML Labs\\\\Fatigue-Analysis\\\\data\\\\processed\\\\finite_elements\\\\40_Vol.csv',\n",
       " 'c:\\\\Users\\\\tchavarria\\\\DSTI\\\\Python ML Labs\\\\Fatigue-Analysis\\\\data\\\\processed\\\\finite_elements\\\\60_Vol.csv',\n",
       " 'c:\\\\Users\\\\tchavarria\\\\DSTI\\\\Python ML Labs\\\\Fatigue-Analysis\\\\data\\\\processed\\\\finite_elements\\\\80_Vol.csv']"
      ]
     },
     "execution_count": 10,
     "metadata": {},
     "output_type": "execute_result"
    }
   ],
   "source": [
    "fe_vol_paths = [vol_path for vol_path in fe_processed_paths if '_Vol' in vol_path]\n",
    "fe_vol_paths"
   ]
  },
  {
   "cell_type": "code",
   "execution_count": 5,
   "metadata": {
    "pycharm": {
     "name": "#%%\n"
    }
   },
   "outputs": [
    {
     "name": "stdout",
     "output_type": "stream",
     "text": [
      "Processing: C:\\Users\\tchavarria\\DSTI\\Python ML Labs\\Fatigue-Analysis\\data\\processed\\finite_elements\\100_SS.csv\n",
      "Processing: C:\\Users\\tchavarria\\DSTI\\Python ML Labs\\Fatigue-Analysis\\data\\processed\\finite_elements\\100_Vol.csv\n",
      "Processing: C:\\Users\\tchavarria\\DSTI\\Python ML Labs\\Fatigue-Analysis\\data\\processed\\finite_elements\\40_SS.csv\n",
      "Processing: C:\\Users\\tchavarria\\DSTI\\Python ML Labs\\Fatigue-Analysis\\data\\processed\\finite_elements\\40_Vol.csv\n",
      "Processing: C:\\Users\\tchavarria\\DSTI\\Python ML Labs\\Fatigue-Analysis\\data\\processed\\finite_elements\\60_SS.csv\n",
      "Processing: C:\\Users\\tchavarria\\DSTI\\Python ML Labs\\Fatigue-Analysis\\data\\processed\\finite_elements\\60_Vol.csv\n",
      "Processing: C:\\Users\\tchavarria\\DSTI\\Python ML Labs\\Fatigue-Analysis\\data\\processed\\finite_elements\\80_SS.csv\n",
      "Processing: C:\\Users\\tchavarria\\DSTI\\Python ML Labs\\Fatigue-Analysis\\data\\processed\\finite_elements\\80_Vol.csv\n"
     ]
    }
   ],
   "source": [
    "# List to separate volume from strain and stress measures\n",
    "fe_vol_paths = []\n",
    "fe_ss_paths = []\n",
    "\n",
    "# Process FE data\n",
    "for i in range(len(fe_raw_paths)):\n",
    "    \n",
    "    fe_processed = fe_processed_paths[i]\n",
    "    \n",
    "    if '_Vol' in fe_processed:\n",
    "        fe_vol_paths.append(fe_processed)\n",
    "    else:\n",
    "        fe_ss_paths.append(fe_processed)\n",
    "        \n",
    "    print(f'Processing: {fe_processed}')\n",
    "    create_finite_element_df(fe_raw_paths[i], fe_processed)\n",
    "    \n",
    "    \n"
   ]
  },
  {
   "cell_type": "markdown",
   "metadata": {},
   "source": [
    "### Estimation of the parameters"
   ]
  },
  {
   "cell_type": "markdown",
   "metadata": {},
   "source": [
    "### Met_1"
   ]
  },
  {
   "cell_type": "markdown",
   "metadata": {},
   "source": [
    "#### Compute $w$ for each scale size"
   ]
  },
  {
   "cell_type": "code",
   "execution_count": 6,
   "metadata": {},
   "outputs": [
    {
     "data": {
      "text/html": [
       "<div>\n",
       "<style scoped>\n",
       "    .dataframe tbody tr th:only-of-type {\n",
       "        vertical-align: middle;\n",
       "    }\n",
       "\n",
       "    .dataframe tbody tr th {\n",
       "        vertical-align: top;\n",
       "    }\n",
       "\n",
       "    .dataframe thead th {\n",
       "        text-align: right;\n",
       "    }\n",
       "</style>\n",
       "<table border=\"1\" class=\"dataframe\">\n",
       "  <thead>\n",
       "    <tr style=\"text-align: right;\">\n",
       "      <th></th>\n",
       "      <th>scale_size</th>\n",
       "      <th>strain_max</th>\n",
       "      <th>strain_min</th>\n",
       "      <th>sigma_max</th>\n",
       "      <th>w</th>\n",
       "    </tr>\n",
       "  </thead>\n",
       "  <tbody>\n",
       "    <tr>\n",
       "      <th>0</th>\n",
       "      <td>100</td>\n",
       "      <td>1.002945</td>\n",
       "      <td>1.000083</td>\n",
       "      <td>636.610</td>\n",
       "      <td>1.822035</td>\n",
       "    </tr>\n",
       "    <tr>\n",
       "      <th>1</th>\n",
       "      <td>40</td>\n",
       "      <td>1.002784</td>\n",
       "      <td>1.000007</td>\n",
       "      <td>608.429</td>\n",
       "      <td>1.689436</td>\n",
       "    </tr>\n",
       "    <tr>\n",
       "      <th>2</th>\n",
       "      <td>60</td>\n",
       "      <td>1.002857</td>\n",
       "      <td>1.000038</td>\n",
       "      <td>623.049</td>\n",
       "      <td>1.756537</td>\n",
       "    </tr>\n",
       "    <tr>\n",
       "      <th>3</th>\n",
       "      <td>80</td>\n",
       "      <td>1.002911</td>\n",
       "      <td>1.000089</td>\n",
       "      <td>633.475</td>\n",
       "      <td>1.787181</td>\n",
       "    </tr>\n",
       "  </tbody>\n",
       "</table>\n",
       "</div>"
      ],
      "text/plain": [
       "  scale_size  strain_max  strain_min  sigma_max         w\n",
       "0        100    1.002945    1.000083    636.610  1.822035\n",
       "1         40    1.002784    1.000007    608.429  1.689436\n",
       "2         60    1.002857    1.000038    623.049  1.756537\n",
       "3         80    1.002911    1.000089    633.475  1.787181"
      ]
     },
     "metadata": {},
     "output_type": "display_data"
    }
   ],
   "source": [
    "# Create a data frame with the info of each scale size\n",
    "\n",
    "w_list1 = []\n",
    "\n",
    "for ss_path in fe_ss_paths:\n",
    "    \n",
    "    # Read data for each scale\n",
    "    file_name = os.path.basename(ss_path)\n",
    "    scale_size = re.findall(r'\\d+', file_name)[0]\n",
    "    \n",
    "    fe_ss_df = read_processed_data(ss_path)\n",
    "    \n",
    "    # We need to exponential because the record type is logarithmic strain\n",
    "    strain_max = math.exp(fe_ss_df['LE_max'].max())\n",
    "    strain_min = math.exp(fe_ss_df['LE_max'].min())\n",
    "    \n",
    "    # Computation of parameters\n",
    "    sigma_max = fe_ss_df['S_max'].max()\n",
    "    \n",
    "    w = (strain_max -strain_min)*sigma_max\n",
    "    \n",
    "    scale_info = [scale_size, strain_max, strain_min, sigma_max, w]\n",
    "    \n",
    "    w_list1.append(scale_info)\n",
    "    \n",
    "\n",
    "\n",
    "w_df1 = pd.DataFrame(w_list1, columns = ['scale_size', 'strain_max', 'strain_min', 'sigma_max', 'w'])\n",
    "\n",
    "display(w_df1)"
   ]
  },
  {
   "cell_type": "markdown",
   "metadata": {},
   "source": [
    "#### Compute $\\overline{w}$ for each scale size\n",
    "\n",
    "In this case, $\\overline{w} = w$."
   ]
  },
  {
   "cell_type": "code",
   "execution_count": 7,
   "metadata": {},
   "outputs": [
    {
     "data": {
      "text/html": [
       "<div>\n",
       "<style scoped>\n",
       "    .dataframe tbody tr th:only-of-type {\n",
       "        vertical-align: middle;\n",
       "    }\n",
       "\n",
       "    .dataframe tbody tr th {\n",
       "        vertical-align: top;\n",
       "    }\n",
       "\n",
       "    .dataframe thead th {\n",
       "        text-align: right;\n",
       "    }\n",
       "</style>\n",
       "<table border=\"1\" class=\"dataframe\">\n",
       "  <thead>\n",
       "    <tr style=\"text-align: right;\">\n",
       "      <th></th>\n",
       "      <th>scale_size</th>\n",
       "      <th>strain_max</th>\n",
       "      <th>strain_min</th>\n",
       "      <th>sigma_max</th>\n",
       "      <th>w</th>\n",
       "      <th>w_effective</th>\n",
       "    </tr>\n",
       "  </thead>\n",
       "  <tbody>\n",
       "    <tr>\n",
       "      <th>0</th>\n",
       "      <td>100</td>\n",
       "      <td>1.002945</td>\n",
       "      <td>1.000083</td>\n",
       "      <td>636.610</td>\n",
       "      <td>1.822035</td>\n",
       "      <td>1.822035</td>\n",
       "    </tr>\n",
       "    <tr>\n",
       "      <th>1</th>\n",
       "      <td>40</td>\n",
       "      <td>1.002784</td>\n",
       "      <td>1.000007</td>\n",
       "      <td>608.429</td>\n",
       "      <td>1.689436</td>\n",
       "      <td>1.689436</td>\n",
       "    </tr>\n",
       "    <tr>\n",
       "      <th>2</th>\n",
       "      <td>60</td>\n",
       "      <td>1.002857</td>\n",
       "      <td>1.000038</td>\n",
       "      <td>623.049</td>\n",
       "      <td>1.756537</td>\n",
       "      <td>1.756537</td>\n",
       "    </tr>\n",
       "    <tr>\n",
       "      <th>3</th>\n",
       "      <td>80</td>\n",
       "      <td>1.002911</td>\n",
       "      <td>1.000089</td>\n",
       "      <td>633.475</td>\n",
       "      <td>1.787181</td>\n",
       "      <td>1.787181</td>\n",
       "    </tr>\n",
       "  </tbody>\n",
       "</table>\n",
       "</div>"
      ],
      "text/plain": [
       "  scale_size  strain_max  strain_min  sigma_max         w  w_effective\n",
       "0        100    1.002945    1.000083    636.610  1.822035     1.822035\n",
       "1         40    1.002784    1.000007    608.429  1.689436     1.689436\n",
       "2         60    1.002857    1.000038    623.049  1.756537     1.756537\n",
       "3         80    1.002911    1.000089    633.475  1.787181     1.787181"
      ]
     },
     "metadata": {},
     "output_type": "display_data"
    }
   ],
   "source": [
    "w_df1['w_effective'] = w_df1['w']\n",
    "display(w_df1)\n"
   ]
  },
  {
   "cell_type": "markdown",
   "metadata": {},
   "source": [
    "### Met_2"
   ]
  },
  {
   "cell_type": "markdown",
   "metadata": {},
   "source": [
    "#### Compute $w$ for each scale size"
   ]
  },
  {
   "cell_type": "code",
   "execution_count": 8,
   "metadata": {},
   "outputs": [],
   "source": [
    "# Create a data frame with the info of each scale size\n",
    "\n",
    "w_dict_met2 = {}\n",
    "\n",
    "for ss_path, vol_path in zip(fe_ss_paths, fe_vol_paths):\n",
    "    \n",
    "    ## Computations of w:\n",
    "    \n",
    "    file_name = os.path.basename(ss_path)\n",
    "    scale_size = re.findall(r'\\d+', file_name)[0]\n",
    "    \n",
    "    fe_ss_df = read_processed_data(ss_path)\n",
    "    \n",
    "    # We need to exponential because the record type is logarithmic strain\n",
    "    fe_ss_df['strain_max'] = np.exp(fe_ss_df['LE_max'])\n",
    "    fe_ss_df['strain_min'] = 0.1*fe_ss_df['strain_max']\n",
    "    \n",
    "    fe_ss_df['sigma_max'] = fe_ss_df['S_max']\n",
    "    \n",
    "    fe_ss_df['w'] = (0.9*fe_ss_df['strain_max'])*fe_ss_df['sigma_max']\n",
    "    \n",
    "    fe_ss_df.drop(['LE_max', 'S_max'], axis = 1, inplace = True)\n",
    "    \n",
    "    ## Adding the volumne\n",
    "    \n",
    "    fe_vol_df = read_processed_data(vol_path)\n",
    "    \n",
    "    fe_vol_df.rename(columns = {'E_vol': 'V'}, inplace = True)\n",
    "    \n",
    "    ss_vol_df = pd.merge(fe_ss_df, fe_vol_df, how = 'inner', on = 'label', validate = '1:1') \n",
    "    \n",
    "    ## Compute w_i*V_i\n",
    "    \n",
    "    ss_vol_df['wV'] = ss_vol_df['w']*ss_vol_df['V']\n",
    "\n",
    "    w_dict_met2[scale_size] = ss_vol_df\n",
    "    \n"
   ]
  },
  {
   "cell_type": "markdown",
   "metadata": {},
   "source": [
    "### Simple verification"
   ]
  },
  {
   "cell_type": "code",
   "execution_count": 9,
   "metadata": {},
   "outputs": [
    {
     "data": {
      "text/plain": [
       "(68642, 7)"
      ]
     },
     "execution_count": 9,
     "metadata": {},
     "output_type": "execute_result"
    }
   ],
   "source": [
    "w_dict_met2['100'].shape"
   ]
  },
  {
   "cell_type": "code",
   "execution_count": 10,
   "metadata": {
    "scrolled": false
   },
   "outputs": [
    {
     "data": {
      "text/html": [
       "<div>\n",
       "<style scoped>\n",
       "    .dataframe tbody tr th:only-of-type {\n",
       "        vertical-align: middle;\n",
       "    }\n",
       "\n",
       "    .dataframe tbody tr th {\n",
       "        vertical-align: top;\n",
       "    }\n",
       "\n",
       "    .dataframe thead th {\n",
       "        text-align: right;\n",
       "    }\n",
       "</style>\n",
       "<table border=\"1\" class=\"dataframe\">\n",
       "  <thead>\n",
       "    <tr style=\"text-align: right;\">\n",
       "      <th></th>\n",
       "      <th>label</th>\n",
       "      <th>strain_max</th>\n",
       "      <th>strain_min</th>\n",
       "      <th>sigma_max</th>\n",
       "      <th>w</th>\n",
       "      <th>V</th>\n",
       "      <th>wV</th>\n",
       "    </tr>\n",
       "  </thead>\n",
       "  <tbody>\n",
       "    <tr>\n",
       "      <th>0</th>\n",
       "      <td>1</td>\n",
       "      <td>1.000323</td>\n",
       "      <td>0.100032</td>\n",
       "      <td>65.5640</td>\n",
       "      <td>59.026636</td>\n",
       "      <td>1.09385</td>\n",
       "      <td>64.566286</td>\n",
       "    </tr>\n",
       "    <tr>\n",
       "      <th>1</th>\n",
       "      <td>2</td>\n",
       "      <td>1.000395</td>\n",
       "      <td>0.100039</td>\n",
       "      <td>81.9723</td>\n",
       "      <td>73.804199</td>\n",
       "      <td>1.09389</td>\n",
       "      <td>80.733675</td>\n",
       "    </tr>\n",
       "    <tr>\n",
       "      <th>2</th>\n",
       "      <td>3</td>\n",
       "      <td>1.000445</td>\n",
       "      <td>0.100044</td>\n",
       "      <td>93.0580</td>\n",
       "      <td>83.789467</td>\n",
       "      <td>1.09391</td>\n",
       "      <td>91.658136</td>\n",
       "    </tr>\n",
       "    <tr>\n",
       "      <th>3</th>\n",
       "      <td>4</td>\n",
       "      <td>1.000484</td>\n",
       "      <td>0.100048</td>\n",
       "      <td>101.4190</td>\n",
       "      <td>91.321303</td>\n",
       "      <td>1.09393</td>\n",
       "      <td>99.899113</td>\n",
       "    </tr>\n",
       "    <tr>\n",
       "      <th>4</th>\n",
       "      <td>5</td>\n",
       "      <td>1.000515</td>\n",
       "      <td>0.100052</td>\n",
       "      <td>108.0430</td>\n",
       "      <td>97.288799</td>\n",
       "      <td>1.09394</td>\n",
       "      <td>106.428108</td>\n",
       "    </tr>\n",
       "  </tbody>\n",
       "</table>\n",
       "</div>"
      ],
      "text/plain": [
       "   label  strain_max  strain_min  sigma_max          w        V          wV\n",
       "0      1    1.000323    0.100032    65.5640  59.026636  1.09385   64.566286\n",
       "1      2    1.000395    0.100039    81.9723  73.804199  1.09389   80.733675\n",
       "2      3    1.000445    0.100044    93.0580  83.789467  1.09391   91.658136\n",
       "3      4    1.000484    0.100048   101.4190  91.321303  1.09393   99.899113\n",
       "4      5    1.000515    0.100052   108.0430  97.288799  1.09394  106.428108"
      ]
     },
     "execution_count": 10,
     "metadata": {},
     "output_type": "execute_result"
    }
   ],
   "source": [
    "w_dict_met2['100'].head()"
   ]
  },
  {
   "cell_type": "markdown",
   "metadata": {},
   "source": [
    "#### Compute $\\overline{w}$ for each scale size\n",
    "\n",
    "In this case:\n",
    "$$\\overline{w} \\approx \\bigg(\\dfrac{1}{V} \\sum_{i=1}^{d} w_i^m V_i \\bigg)^{1/m}$$"
   ]
  },
  {
   "cell_type": "code",
   "execution_count": 11,
   "metadata": {
    "scrolled": true
   },
   "outputs": [
    {
     "data": {
      "text/html": [
       "<div>\n",
       "<style scoped>\n",
       "    .dataframe tbody tr th:only-of-type {\n",
       "        vertical-align: middle;\n",
       "    }\n",
       "\n",
       "    .dataframe tbody tr th {\n",
       "        vertical-align: top;\n",
       "    }\n",
       "\n",
       "    .dataframe thead th {\n",
       "        text-align: right;\n",
       "    }\n",
       "</style>\n",
       "<table border=\"1\" class=\"dataframe\">\n",
       "  <thead>\n",
       "    <tr style=\"text-align: right;\">\n",
       "      <th></th>\n",
       "      <th>scale_size</th>\n",
       "      <th>strain_max_avg</th>\n",
       "      <th>strain_min_avg</th>\n",
       "      <th>sigma_max_avg</th>\n",
       "      <th>w_avg</th>\n",
       "      <th>w_effective</th>\n",
       "    </tr>\n",
       "  </thead>\n",
       "  <tbody>\n",
       "    <tr>\n",
       "      <th>0</th>\n",
       "      <td>100</td>\n",
       "      <td>1.000851</td>\n",
       "      <td>0.100085</td>\n",
       "      <td>178.252852</td>\n",
       "      <td>160.581454</td>\n",
       "      <td>235.185526</td>\n",
       "    </tr>\n",
       "    <tr>\n",
       "      <th>1</th>\n",
       "      <td>80</td>\n",
       "      <td>1.000789</td>\n",
       "      <td>0.100079</td>\n",
       "      <td>165.383451</td>\n",
       "      <td>148.980801</td>\n",
       "      <td>225.747727</td>\n",
       "    </tr>\n",
       "    <tr>\n",
       "      <th>2</th>\n",
       "      <td>60</td>\n",
       "      <td>1.000669</td>\n",
       "      <td>0.100067</td>\n",
       "      <td>140.114128</td>\n",
       "      <td>126.208311</td>\n",
       "      <td>111.905814</td>\n",
       "    </tr>\n",
       "    <tr>\n",
       "      <th>3</th>\n",
       "      <td>40</td>\n",
       "      <td>1.000560</td>\n",
       "      <td>0.100056</td>\n",
       "      <td>117.052945</td>\n",
       "      <td>105.431124</td>\n",
       "      <td>215.628608</td>\n",
       "    </tr>\n",
       "  </tbody>\n",
       "</table>\n",
       "</div>"
      ],
      "text/plain": [
       "  scale_size  strain_max_avg  strain_min_avg  sigma_max_avg       w_avg  \\\n",
       "0        100        1.000851        0.100085     178.252852  160.581454   \n",
       "1         80        1.000789        0.100079     165.383451  148.980801   \n",
       "2         60        1.000669        0.100067     140.114128  126.208311   \n",
       "3         40        1.000560        0.100056     117.052945  105.431124   \n",
       "\n",
       "   w_effective  \n",
       "0   235.185526  \n",
       "1   225.747727  \n",
       "2   111.905814  \n",
       "3   215.628608  "
      ]
     },
     "metadata": {},
     "output_type": "display_data"
    }
   ],
   "source": [
    "w_list2 = []\n",
    "\n",
    "for scale in scale_sizes:\n",
    "    ## Computation\n",
    "    \n",
    "    # w_effective:\n",
    "    w_effective = (sum(w_dict_met2[scale].wV**m)/sum(w_dict_met2[scale].V))**(1/m)\n",
    "    \n",
    "    # average other parameters\n",
    "    strain_max_avg = np.mean(w_dict_met2[scale].strain_max)\n",
    "    strain_min_avg = np.mean(w_dict_met2[scale].strain_min)\n",
    "    sigma_max_avg = np.mean(w_dict_met2[scale].sigma_max)\n",
    "    w_avg = np.mean(w_dict_met2[scale].w)\n",
    "    \n",
    "    scale_info = [scale, strain_max_avg, strain_min_avg\n",
    "                  , sigma_max_avg\n",
    "                  , w_avg, w_effective]\n",
    "    \n",
    "    w_list2.append(scale_info)\n",
    "    \n",
    "\n",
    "w_df2 = pd.DataFrame(w_list2, columns = ['scale_size', 'strain_max_avg'\n",
    "                                           , 'strain_min_avg', 'sigma_max_avg'\n",
    "                                           , 'w_avg', 'w_effective'])\n",
    "\n",
    "\n",
    "display(w_df2)"
   ]
  },
  {
   "cell_type": "markdown",
   "metadata": {},
   "source": [
    "### Met_3"
   ]
  },
  {
   "cell_type": "markdown",
   "metadata": {},
   "source": [
    "#### Compute $w$ for each scale size"
   ]
  },
  {
   "cell_type": "code",
   "execution_count": 12,
   "metadata": {},
   "outputs": [],
   "source": [
    "# Create a data frame with the info of each scale size\n",
    "\n",
    "w_dict_met3 = {}\n",
    "\n",
    "for ss_path, vol_path in zip(fe_ss_paths, fe_vol_paths):\n",
    "    \n",
    "    ## Computations of w:\n",
    "    \n",
    "    file_name = os.path.basename(ss_path)\n",
    "    scale_size = re.findall(r'\\d+', file_name)[0]\n",
    "    \n",
    "    fe_ss_df = read_processed_data(ss_path)\n",
    "    \n",
    "    # We need to exponential because the record type is logarithmic strain\n",
    "    fe_ss_df['strain_max'] = np.exp(fe_ss_df['LE_max'])\n",
    "    fe_ss_df['strain_min'] = np.min(fe_ss_df['strain_max'])\n",
    "    \n",
    "    fe_ss_df['sigma_max'] = fe_ss_df['S_max']\n",
    "    fe_ss_df['w'] = (fe_ss_df['strain_max'] - fe_ss_df['strain_min'])*fe_ss_df['sigma_max']\n",
    "    \n",
    "    \n",
    "    fe_ss_df.drop(['LE_max', 'S_max'], axis = 1, inplace = True)\n",
    "    \n",
    "    ## Adding the volumne\n",
    "    \n",
    "    fe_vol_df = read_processed_data(vol_path)\n",
    "    \n",
    "    fe_vol_df.rename(columns = {'E_vol': 'V'}, inplace = True)\n",
    "    \n",
    "    ss_vol_df = pd.merge(fe_ss_df, fe_vol_df, how = 'inner', on = 'label', validate = '1:1') \n",
    "    \n",
    "    ## Compute w_i*V_i\n",
    "    \n",
    "    ss_vol_df['wV'] = ss_vol_df['w']*ss_vol_df['V']\n",
    "\n",
    "    w_dict_met3[scale_size] = ss_vol_df\n",
    "    \n"
   ]
  },
  {
   "cell_type": "code",
   "execution_count": 13,
   "metadata": {},
   "outputs": [
    {
     "data": {
      "text/plain": [
       "(68642, 7)"
      ]
     },
     "execution_count": 13,
     "metadata": {},
     "output_type": "execute_result"
    }
   ],
   "source": [
    "w_dict_met3['100'].shape"
   ]
  },
  {
   "cell_type": "code",
   "execution_count": 14,
   "metadata": {
    "scrolled": true
   },
   "outputs": [
    {
     "data": {
      "text/html": [
       "<div>\n",
       "<style scoped>\n",
       "    .dataframe tbody tr th:only-of-type {\n",
       "        vertical-align: middle;\n",
       "    }\n",
       "\n",
       "    .dataframe tbody tr th {\n",
       "        vertical-align: top;\n",
       "    }\n",
       "\n",
       "    .dataframe thead th {\n",
       "        text-align: right;\n",
       "    }\n",
       "</style>\n",
       "<table border=\"1\" class=\"dataframe\">\n",
       "  <thead>\n",
       "    <tr style=\"text-align: right;\">\n",
       "      <th></th>\n",
       "      <th>label</th>\n",
       "      <th>strain_max</th>\n",
       "      <th>strain_min</th>\n",
       "      <th>sigma_max</th>\n",
       "      <th>w</th>\n",
       "      <th>V</th>\n",
       "      <th>wV</th>\n",
       "    </tr>\n",
       "  </thead>\n",
       "  <tbody>\n",
       "    <tr>\n",
       "      <th>0</th>\n",
       "      <td>1</td>\n",
       "      <td>1.000323</td>\n",
       "      <td>1.000083</td>\n",
       "      <td>65.5640</td>\n",
       "      <td>0.015689</td>\n",
       "      <td>1.09385</td>\n",
       "      <td>0.017161</td>\n",
       "    </tr>\n",
       "    <tr>\n",
       "      <th>1</th>\n",
       "      <td>2</td>\n",
       "      <td>1.000395</td>\n",
       "      <td>1.000083</td>\n",
       "      <td>81.9723</td>\n",
       "      <td>0.025535</td>\n",
       "      <td>1.09389</td>\n",
       "      <td>0.027933</td>\n",
       "    </tr>\n",
       "    <tr>\n",
       "      <th>2</th>\n",
       "      <td>3</td>\n",
       "      <td>1.000445</td>\n",
       "      <td>1.000083</td>\n",
       "      <td>93.0580</td>\n",
       "      <td>0.033655</td>\n",
       "      <td>1.09391</td>\n",
       "      <td>0.036815</td>\n",
       "    </tr>\n",
       "    <tr>\n",
       "      <th>3</th>\n",
       "      <td>4</td>\n",
       "      <td>1.000484</td>\n",
       "      <td>1.000083</td>\n",
       "      <td>101.4190</td>\n",
       "      <td>0.040665</td>\n",
       "      <td>1.09393</td>\n",
       "      <td>0.044484</td>\n",
       "    </tr>\n",
       "    <tr>\n",
       "      <th>4</th>\n",
       "      <td>5</td>\n",
       "      <td>1.000515</td>\n",
       "      <td>1.000083</td>\n",
       "      <td>108.0430</td>\n",
       "      <td>0.046663</td>\n",
       "      <td>1.09394</td>\n",
       "      <td>0.051046</td>\n",
       "    </tr>\n",
       "  </tbody>\n",
       "</table>\n",
       "</div>"
      ],
      "text/plain": [
       "   label  strain_max  strain_min  sigma_max         w        V        wV\n",
       "0      1    1.000323    1.000083    65.5640  0.015689  1.09385  0.017161\n",
       "1      2    1.000395    1.000083    81.9723  0.025535  1.09389  0.027933\n",
       "2      3    1.000445    1.000083    93.0580  0.033655  1.09391  0.036815\n",
       "3      4    1.000484    1.000083   101.4190  0.040665  1.09393  0.044484\n",
       "4      5    1.000515    1.000083   108.0430  0.046663  1.09394  0.051046"
      ]
     },
     "execution_count": 14,
     "metadata": {},
     "output_type": "execute_result"
    }
   ],
   "source": [
    "w_dict_met3['100'].head()"
   ]
  },
  {
   "cell_type": "markdown",
   "metadata": {},
   "source": [
    "#### Compute $\\overline{w}$ for each scale size\n",
    "\n",
    "In this case:\n",
    "$$\\overline{w} \\approx \\bigg(\\dfrac{1}{V} \\sum_{i=1}^{d} w_i^m V_i \\bigg)^{1/m}$$"
   ]
  },
  {
   "cell_type": "code",
   "execution_count": 15,
   "metadata": {},
   "outputs": [
    {
     "data": {
      "text/html": [
       "<div>\n",
       "<style scoped>\n",
       "    .dataframe tbody tr th:only-of-type {\n",
       "        vertical-align: middle;\n",
       "    }\n",
       "\n",
       "    .dataframe tbody tr th {\n",
       "        vertical-align: top;\n",
       "    }\n",
       "\n",
       "    .dataframe thead th {\n",
       "        text-align: right;\n",
       "    }\n",
       "</style>\n",
       "<table border=\"1\" class=\"dataframe\">\n",
       "  <thead>\n",
       "    <tr style=\"text-align: right;\">\n",
       "      <th></th>\n",
       "      <th>scale_size</th>\n",
       "      <th>strain_max_avg</th>\n",
       "      <th>strain_min_avg</th>\n",
       "      <th>sigma_max_avg</th>\n",
       "      <th>w_avg</th>\n",
       "      <th>w_effective</th>\n",
       "    </tr>\n",
       "  </thead>\n",
       "  <tbody>\n",
       "    <tr>\n",
       "      <th>0</th>\n",
       "      <td>100</td>\n",
       "      <td>1.000851</td>\n",
       "      <td>1.000083</td>\n",
       "      <td>178.252852</td>\n",
       "      <td>0.156134</td>\n",
       "      <td>0.678791</td>\n",
       "    </tr>\n",
       "    <tr>\n",
       "      <th>1</th>\n",
       "      <td>80</td>\n",
       "      <td>1.000789</td>\n",
       "      <td>1.000089</td>\n",
       "      <td>165.383451</td>\n",
       "      <td>0.135972</td>\n",
       "      <td>0.650865</td>\n",
       "    </tr>\n",
       "    <tr>\n",
       "      <th>2</th>\n",
       "      <td>60</td>\n",
       "      <td>1.000669</td>\n",
       "      <td>1.000038</td>\n",
       "      <td>140.114128</td>\n",
       "      <td>0.112050</td>\n",
       "      <td>0.110606</td>\n",
       "    </tr>\n",
       "    <tr>\n",
       "      <th>3</th>\n",
       "      <td>40</td>\n",
       "      <td>1.000560</td>\n",
       "      <td>1.000007</td>\n",
       "      <td>117.052945</td>\n",
       "      <td>0.091932</td>\n",
       "      <td>0.634756</td>\n",
       "    </tr>\n",
       "  </tbody>\n",
       "</table>\n",
       "</div>"
      ],
      "text/plain": [
       "  scale_size  strain_max_avg  strain_min_avg  sigma_max_avg     w_avg  \\\n",
       "0        100        1.000851        1.000083     178.252852  0.156134   \n",
       "1         80        1.000789        1.000089     165.383451  0.135972   \n",
       "2         60        1.000669        1.000038     140.114128  0.112050   \n",
       "3         40        1.000560        1.000007     117.052945  0.091932   \n",
       "\n",
       "   w_effective  \n",
       "0     0.678791  \n",
       "1     0.650865  \n",
       "2     0.110606  \n",
       "3     0.634756  "
      ]
     },
     "metadata": {},
     "output_type": "display_data"
    }
   ],
   "source": [
    "w_list3 = []\n",
    "\n",
    "\n",
    "for scale in scale_sizes:\n",
    "    ## Computation\n",
    "    \n",
    "    # w_effective:\n",
    "    w_effective = (sum(w_dict_met3[scale].wV**m)/sum(w_dict_met3[scale].V))**(1/m)\n",
    "    \n",
    "    # average other parameters\n",
    "    strain_max_avg = np.mean(w_dict_met3[scale].strain_max)\n",
    "    strain_min_avg = np.mean(w_dict_met3[scale].strain_min)\n",
    "    sigma_max_avg = np.mean(w_dict_met3[scale].sigma_max)\n",
    "    w_avg = np.mean(w_dict_met3[scale].w)\n",
    "    \n",
    "    scale_info = [scale, strain_max_avg, strain_min_avg\n",
    "                  , sigma_max_avg\n",
    "                  , w_avg, w_effective]\n",
    "    \n",
    "    w_list3.append(scale_info)\n",
    "    \n",
    "\n",
    "w_df3 = pd.DataFrame(w_list3, columns = ['scale_size', 'strain_max_avg'\n",
    "                                           , 'strain_min_avg', 'sigma_max_avg'\n",
    "                                           , 'w_avg', 'w_effective'])\n",
    "\n",
    "\n",
    "display(w_df3)"
   ]
  },
  {
   "cell_type": "markdown",
   "metadata": {},
   "source": [
    "### Met_4"
   ]
  },
  {
   "cell_type": "markdown",
   "metadata": {},
   "source": [
    "#### Compute $w$ for each scale size"
   ]
  },
  {
   "cell_type": "code",
   "execution_count": 16,
   "metadata": {
    "scrolled": true
   },
   "outputs": [
    {
     "data": {
      "text/html": [
       "<div>\n",
       "<style scoped>\n",
       "    .dataframe tbody tr th:only-of-type {\n",
       "        vertical-align: middle;\n",
       "    }\n",
       "\n",
       "    .dataframe tbody tr th {\n",
       "        vertical-align: top;\n",
       "    }\n",
       "\n",
       "    .dataframe thead th {\n",
       "        text-align: right;\n",
       "    }\n",
       "</style>\n",
       "<table border=\"1\" class=\"dataframe\">\n",
       "  <thead>\n",
       "    <tr style=\"text-align: right;\">\n",
       "      <th></th>\n",
       "      <th>scale_size</th>\n",
       "      <th>strain_max</th>\n",
       "      <th>strain_min</th>\n",
       "      <th>sigma_max</th>\n",
       "      <th>w</th>\n",
       "      <th>w_effective</th>\n",
       "    </tr>\n",
       "  </thead>\n",
       "  <tbody>\n",
       "    <tr>\n",
       "      <th>0</th>\n",
       "      <td>100</td>\n",
       "      <td>1.002945</td>\n",
       "      <td>1.000083</td>\n",
       "      <td>636.610</td>\n",
       "      <td>3.792035</td>\n",
       "      <td>1.822035</td>\n",
       "    </tr>\n",
       "    <tr>\n",
       "      <th>1</th>\n",
       "      <td>40</td>\n",
       "      <td>1.002784</td>\n",
       "      <td>1.000007</td>\n",
       "      <td>608.429</td>\n",
       "      <td>3.659436</td>\n",
       "      <td>1.689436</td>\n",
       "    </tr>\n",
       "    <tr>\n",
       "      <th>2</th>\n",
       "      <td>60</td>\n",
       "      <td>1.002857</td>\n",
       "      <td>1.000038</td>\n",
       "      <td>623.049</td>\n",
       "      <td>3.726537</td>\n",
       "      <td>1.756537</td>\n",
       "    </tr>\n",
       "    <tr>\n",
       "      <th>3</th>\n",
       "      <td>80</td>\n",
       "      <td>1.002911</td>\n",
       "      <td>1.000089</td>\n",
       "      <td>633.475</td>\n",
       "      <td>3.757181</td>\n",
       "      <td>1.787181</td>\n",
       "    </tr>\n",
       "  </tbody>\n",
       "</table>\n",
       "</div>"
      ],
      "text/plain": [
       "  scale_size  strain_max  strain_min  sigma_max         w  w_effective\n",
       "0        100    1.002945    1.000083    636.610  3.792035     1.822035\n",
       "1         40    1.002784    1.000007    608.429  3.659436     1.689436\n",
       "2         60    1.002857    1.000038    623.049  3.726537     1.756537\n",
       "3         80    1.002911    1.000089    633.475  3.757181     1.787181"
      ]
     },
     "metadata": {},
     "output_type": "display_data"
    }
   ],
   "source": [
    "w_df4 = w_df1.copy() \n",
    "w_df4['w'] = w_df4['w'] - material_param_delta0\n",
    "display(w_df4)"
   ]
  },
  {
   "cell_type": "markdown",
   "metadata": {},
   "source": [
    "#### Compute $\\overline{w}$ for each scale size\n",
    "\n",
    "In this case, $\\overline{w} = w$."
   ]
  },
  {
   "cell_type": "code",
   "execution_count": 17,
   "metadata": {},
   "outputs": [
    {
     "data": {
      "text/html": [
       "<div>\n",
       "<style scoped>\n",
       "    .dataframe tbody tr th:only-of-type {\n",
       "        vertical-align: middle;\n",
       "    }\n",
       "\n",
       "    .dataframe tbody tr th {\n",
       "        vertical-align: top;\n",
       "    }\n",
       "\n",
       "    .dataframe thead th {\n",
       "        text-align: right;\n",
       "    }\n",
       "</style>\n",
       "<table border=\"1\" class=\"dataframe\">\n",
       "  <thead>\n",
       "    <tr style=\"text-align: right;\">\n",
       "      <th></th>\n",
       "      <th>scale_size</th>\n",
       "      <th>strain_max</th>\n",
       "      <th>strain_min</th>\n",
       "      <th>sigma_max</th>\n",
       "      <th>w</th>\n",
       "      <th>w_effective</th>\n",
       "    </tr>\n",
       "  </thead>\n",
       "  <tbody>\n",
       "    <tr>\n",
       "      <th>0</th>\n",
       "      <td>100</td>\n",
       "      <td>1.002945</td>\n",
       "      <td>1.000083</td>\n",
       "      <td>636.610</td>\n",
       "      <td>3.792035</td>\n",
       "      <td>3.792035</td>\n",
       "    </tr>\n",
       "    <tr>\n",
       "      <th>1</th>\n",
       "      <td>40</td>\n",
       "      <td>1.002784</td>\n",
       "      <td>1.000007</td>\n",
       "      <td>608.429</td>\n",
       "      <td>3.659436</td>\n",
       "      <td>3.659436</td>\n",
       "    </tr>\n",
       "    <tr>\n",
       "      <th>2</th>\n",
       "      <td>60</td>\n",
       "      <td>1.002857</td>\n",
       "      <td>1.000038</td>\n",
       "      <td>623.049</td>\n",
       "      <td>3.726537</td>\n",
       "      <td>3.726537</td>\n",
       "    </tr>\n",
       "    <tr>\n",
       "      <th>3</th>\n",
       "      <td>80</td>\n",
       "      <td>1.002911</td>\n",
       "      <td>1.000089</td>\n",
       "      <td>633.475</td>\n",
       "      <td>3.757181</td>\n",
       "      <td>3.757181</td>\n",
       "    </tr>\n",
       "  </tbody>\n",
       "</table>\n",
       "</div>"
      ],
      "text/plain": [
       "  scale_size  strain_max  strain_min  sigma_max         w  w_effective\n",
       "0        100    1.002945    1.000083    636.610  3.792035     3.792035\n",
       "1         40    1.002784    1.000007    608.429  3.659436     3.659436\n",
       "2         60    1.002857    1.000038    623.049  3.726537     3.726537\n",
       "3         80    1.002911    1.000089    633.475  3.757181     3.757181"
      ]
     },
     "metadata": {},
     "output_type": "display_data"
    }
   ],
   "source": [
    "w_df4['w_effective'] = w_df4['w']\n",
    "display(w_df4)\n"
   ]
  },
  {
   "cell_type": "markdown",
   "metadata": {},
   "source": [
    "### Met_5"
   ]
  },
  {
   "cell_type": "markdown",
   "metadata": {},
   "source": [
    "#### Compute $w$ for each scale size"
   ]
  },
  {
   "cell_type": "code",
   "execution_count": 18,
   "metadata": {},
   "outputs": [],
   "source": [
    "w_dict_met5 = w_dict_met3.copy()"
   ]
  },
  {
   "cell_type": "code",
   "execution_count": 19,
   "metadata": {},
   "outputs": [
    {
     "data": {
      "text/html": [
       "<div>\n",
       "<style scoped>\n",
       "    .dataframe tbody tr th:only-of-type {\n",
       "        vertical-align: middle;\n",
       "    }\n",
       "\n",
       "    .dataframe tbody tr th {\n",
       "        vertical-align: top;\n",
       "    }\n",
       "\n",
       "    .dataframe thead th {\n",
       "        text-align: right;\n",
       "    }\n",
       "</style>\n",
       "<table border=\"1\" class=\"dataframe\">\n",
       "  <thead>\n",
       "    <tr style=\"text-align: right;\">\n",
       "      <th></th>\n",
       "      <th>scale_size</th>\n",
       "      <th>strain_max_avg</th>\n",
       "      <th>strain_min_avg</th>\n",
       "      <th>sigma_max_avg</th>\n",
       "      <th>w_avg</th>\n",
       "      <th>w_effective</th>\n",
       "    </tr>\n",
       "  </thead>\n",
       "  <tbody>\n",
       "    <tr>\n",
       "      <th>0</th>\n",
       "      <td>100</td>\n",
       "      <td>1.000851</td>\n",
       "      <td>1.000083</td>\n",
       "      <td>178.252852</td>\n",
       "      <td>2.126134</td>\n",
       "      <td>2.069938</td>\n",
       "    </tr>\n",
       "    <tr>\n",
       "      <th>1</th>\n",
       "      <td>80</td>\n",
       "      <td>1.000789</td>\n",
       "      <td>1.000089</td>\n",
       "      <td>165.383451</td>\n",
       "      <td>2.105972</td>\n",
       "      <td>2.145091</td>\n",
       "    </tr>\n",
       "    <tr>\n",
       "      <th>2</th>\n",
       "      <td>60</td>\n",
       "      <td>1.000669</td>\n",
       "      <td>1.000038</td>\n",
       "      <td>140.114128</td>\n",
       "      <td>2.082050</td>\n",
       "      <td>1.802031</td>\n",
       "    </tr>\n",
       "    <tr>\n",
       "      <th>3</th>\n",
       "      <td>40</td>\n",
       "      <td>1.000560</td>\n",
       "      <td>1.000007</td>\n",
       "      <td>117.052945</td>\n",
       "      <td>2.061932</td>\n",
       "      <td>2.311446</td>\n",
       "    </tr>\n",
       "  </tbody>\n",
       "</table>\n",
       "</div>"
      ],
      "text/plain": [
       "  scale_size  strain_max_avg  strain_min_avg  sigma_max_avg     w_avg  \\\n",
       "0        100        1.000851        1.000083     178.252852  2.126134   \n",
       "1         80        1.000789        1.000089     165.383451  2.105972   \n",
       "2         60        1.000669        1.000038     140.114128  2.082050   \n",
       "3         40        1.000560        1.000007     117.052945  2.061932   \n",
       "\n",
       "   w_effective  \n",
       "0     2.069938  \n",
       "1     2.145091  \n",
       "2     1.802031  \n",
       "3     2.311446  "
      ]
     },
     "metadata": {},
     "output_type": "display_data"
    }
   ],
   "source": [
    "w_list5 = []\n",
    "\n",
    "\n",
    "for scale in scale_sizes:\n",
    "    \n",
    "    ## Adjust w computation:\n",
    "    \n",
    "    w_dict_met5[scale]['w'] = w_dict_met5[scale]['w'] - material_param_delta0\n",
    "    w_dict_met5[scale]['wV'] = w_dict_met5[scale]['w']*w_dict_met5[scale]['V']\n",
    "    \n",
    "    ## Computation\n",
    "    \n",
    "    # w_effective:\n",
    "    w_effective = (sum(w_dict_met5[scale].wV**m)/sum(w_dict_met5[scale].V))**(1/m)\n",
    "    \n",
    "    # average other parameters\n",
    "    strain_max_avg = np.mean(w_dict_met5[scale].strain_max)\n",
    "    strain_min_avg = np.mean(w_dict_met5[scale].strain_min)\n",
    "    sigma_max_avg = np.mean(w_dict_met5[scale].sigma_max)\n",
    "    w_avg = np.mean(w_dict_met5[scale].w)\n",
    "    \n",
    "    scale_info = [scale, strain_max_avg, strain_min_avg\n",
    "                  , sigma_max_avg\n",
    "                  , w_avg, w_effective]\n",
    "    \n",
    "    w_list5.append(scale_info)\n",
    "    \n",
    "\n",
    "    \n",
    "    \n",
    "w_df5 = pd.DataFrame(w_list5, columns = ['scale_size', 'strain_max_avg'\n",
    "                                           , 'strain_min_avg', 'sigma_max_avg'\n",
    "                                           , 'w_avg', 'w_effective'])\n",
    "\n",
    "\n",
    "display(w_df5)"
   ]
  },
  {
   "cell_type": "markdown",
   "metadata": {},
   "source": [
    "## Save the results"
   ]
  },
  {
   "cell_type": "code",
   "execution_count": 20,
   "metadata": {},
   "outputs": [],
   "source": [
    "output_results_path = os.path.abspath(os.path.join(os.getcwd(), '../data/processed/parameters/damage_parameter'))\n",
    "\n",
    "\n",
    "w_df1.to_csv(os.path.join(output_results_path, 'met1.csv'), index = None)\n",
    "w_df2.to_csv(os.path.join(output_results_path, 'met2.csv'), index = None)\n",
    "w_df3.to_csv(os.path.join(output_results_path, 'met3.csv'), index = None)\n",
    "w_df4.to_csv(os.path.join(output_results_path, 'met4.csv'), index = None)\n",
    "w_df5.to_csv(os.path.join(output_results_path, 'met5.csv'), index = None)\n",
    "\n"
   ]
  },
  {
   "cell_type": "markdown",
   "metadata": {},
   "source": [
    "## Suggested next steps\n"
   ]
  },
  {
   "cell_type": "markdown",
   "metadata": {},
   "source": [
    "- Check the justification and reasonability of the results\n",
    "- Select the computation strategy (if there is one correct).\n",
    "- Improve documentation and assumptions in each method."
   ]
  },
  {
   "cell_type": "code",
   "execution_count": null,
   "metadata": {},
   "outputs": [],
   "source": []
  }
 ],
 "metadata": {
  "kernelspec": {
   "display_name": "env_dsti_safran",
   "language": "python",
   "name": "env_dsti_safran"
  },
  "language_info": {
   "codemirror_mode": {
    "name": "ipython",
    "version": 3
   },
   "file_extension": ".py",
   "mimetype": "text/x-python",
   "name": "python",
   "nbconvert_exporter": "python",
   "pygments_lexer": "ipython3",
   "version": "3.8.9"
  }
 },
 "nbformat": 4,
 "nbformat_minor": 1
}
